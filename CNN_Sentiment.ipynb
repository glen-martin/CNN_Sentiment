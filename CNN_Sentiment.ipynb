{
  "nbformat": 4,
  "nbformat_minor": 0,
  "metadata": {
    "colab": {
      "name": "CNN Sentiment",
      "provenance": [],
      "toc_visible": true,
      "authorship_tag": "ABX9TyPj8HWNgdZBArxlsnj6zrJm",
      "include_colab_link": true
    },
    "kernelspec": {
      "name": "python3",
      "display_name": "Python 3"
    },
    "accelerator": "TPU"
  },
  "cells": [
    {
      "cell_type": "markdown",
      "metadata": {
        "id": "view-in-github",
        "colab_type": "text"
      },
      "source": [
        "<a href=\"https://colab.research.google.com/github/glenkalarikkal/CNN_Sentiment/blob/main/CNN_Sentiment.ipynb\" target=\"_parent\"><img src=\"https://colab.research.google.com/assets/colab-badge.svg\" alt=\"Open In Colab\"/></a>"
      ]
    },
    {
      "cell_type": "markdown",
      "metadata": {
        "id": "CEdMmlYbVEY_",
        "colab_type": "text"
      },
      "source": [
        "## **CNN for sentiment analysis**"
      ]
    },
    {
      "cell_type": "markdown",
      "metadata": {
        "id": "_bwjpviDVQzz",
        "colab_type": "text"
      },
      "source": [
        "Load data from google drive"
      ]
    },
    {
      "cell_type": "code",
      "metadata": {
        "id": "C0Lq3bxXtU9P",
        "colab_type": "code",
        "colab": {}
      },
      "source": [
        "import pandas as pd\n",
        "import tensorflow as tf\n",
        "from bs4 import BeautifulSoup\n",
        "import re\n",
        "import tensorflow_datasets as tfds\n"
      ],
      "execution_count": null,
      "outputs": []
    },
    {
      "cell_type": "code",
      "metadata": {
        "id": "r8Uas-fzVBxT",
        "colab_type": "code",
        "colab": {
          "base_uri": "https://localhost:8080/",
          "height": 122
        },
        "outputId": "c1c4c4d0-0e8b-47e4-b98f-6104fb2fa872"
      },
      "source": [
        "from google.colab import drive\n",
        "drive.mount(\"/content/drive\")"
      ],
      "execution_count": null,
      "outputs": [
        {
          "output_type": "stream",
          "text": [
            "Go to this URL in a browser: https://accounts.google.com/o/oauth2/auth?client_id=947318989803-6bn6qk8qdgf4n4g3pfee6491hc0brc4i.apps.googleusercontent.com&redirect_uri=urn%3aietf%3awg%3aoauth%3a2.0%3aoob&scope=email%20https%3a%2f%2fwww.googleapis.com%2fauth%2fdocs.test%20https%3a%2f%2fwww.googleapis.com%2fauth%2fdrive%20https%3a%2f%2fwww.googleapis.com%2fauth%2fdrive.photos.readonly%20https%3a%2f%2fwww.googleapis.com%2fauth%2fpeopleapi.readonly&response_type=code\n",
            "\n",
            "Enter your authorization code:\n",
            "··········\n",
            "Mounted at /content/drive\n"
          ],
          "name": "stdout"
        }
      ]
    },
    {
      "cell_type": "code",
      "metadata": {
        "id": "cZxZMkQotLdj",
        "colab_type": "code",
        "colab": {}
      },
      "source": [
        "cols = [\"sentiment\", \"id\", \"date\", \"query\", \"user\", \"text\"]\n",
        "train_data = pd.read_csv(\n",
        "    \"/content/drive/My Drive/Colab Training Data/training.1600000.processed.noemoticon.csv\",\n",
        "    header=None,\n",
        "    names=cols,\n",
        "    engine=\"python\",\n",
        "    encoding=\"latin1\"\n",
        ")\n",
        "test_data = pd.read_csv(\n",
        "    \"/content/drive/My Drive/Colab Training Data/testdata.manual.2009.06.14.csv\",\n",
        "    header=None,\n",
        "    names=cols,\n",
        "    engine=\"python\",\n",
        "    encoding=\"latin1\"\n",
        ")"
      ],
      "execution_count": null,
      "outputs": []
    },
    {
      "cell_type": "code",
      "metadata": {
        "id": "bqsFD56ftcgR",
        "colab_type": "code",
        "colab": {
          "base_uri": "https://localhost:8080/",
          "height": 34
        },
        "outputId": "7fe96a5e-5d78-4653-cdc1-ee4b120d456d"
      },
      "source": [
        "train_data.columns"
      ],
      "execution_count": null,
      "outputs": [
        {
          "output_type": "execute_result",
          "data": {
            "text/plain": [
              "Index(['sentiment', 'id', 'date', 'query', 'user', 'text'], dtype='object')"
            ]
          },
          "metadata": {
            "tags": []
          },
          "execution_count": 5
        }
      ]
    },
    {
      "cell_type": "code",
      "metadata": {
        "id": "tgKM7LeNvgJ1",
        "colab_type": "code",
        "colab": {}
      },
      "source": [
        "def clean_data(df):\n",
        "    df.drop([\"id\", \"date\", \"query\", \"user\"],  # don't forget to run data = train_data before!\n",
        "            axis=1,\n",
        "            inplace=True)\n",
        "\n",
        "    data_clean = [clean_tweet(tweet) for tweet in df.text]\n",
        "    data_sentiment = df.sentiment.values\n",
        "    data_sentiment[data_sentiment == 4] = 1\n",
        "    return data_clean, data_sentiment"
      ],
      "execution_count": null,
      "outputs": []
    },
    {
      "cell_type": "code",
      "metadata": {
        "id": "i0F7jq3IwH9X",
        "colab_type": "code",
        "colab": {}
      },
      "source": [
        "def clean_tweet(tweet):\n",
        "    tweet = BeautifulSoup(tweet, \"lxml\").get_text()\n",
        "    # Removing the @\n",
        "    tweet = re.sub(r\"@[A-Za-z0-9]+\", ' ', tweet)\n",
        "    # Removing the URL links\n",
        "    tweet = re.sub(r\"https?://[A-Za-z0-9./]+\", ' ', tweet)\n",
        "    # Keeping only letters\n",
        "    tweet = re.sub(r\"[^a-zA-Z.!?']\", ' ', tweet)\n",
        "    # Removing additional whitespaces\n",
        "    tweet = re.sub(r\" +\", ' ', tweet)\n",
        "    return tweet"
      ],
      "execution_count": null,
      "outputs": []
    },
    {
      "cell_type": "code",
      "metadata": {
        "id": "_MdW2ysUv-4K",
        "colab_type": "code",
        "colab": {}
      },
      "source": [
        "def tokenize_corpus(data, maxlen, encoder):                        \n",
        "    data_clean = [encoder.encode(sentence) for sentence in data]   \n",
        "    data_clean = tf.keras.preprocessing.sequence.pad_sequences(    \n",
        "        data_clean,                                                \n",
        "        value=0,                                                   \n",
        "        padding=\"post\",                                            \n",
        "        maxlen=maxlen                                              \n",
        "    )                                                              \n",
        "    return data_clean                                              "
      ],
      "execution_count": null,
      "outputs": []
    },
    {
      "cell_type": "code",
      "metadata": {
        "id": "nauyIdAptfTg",
        "colab_type": "code",
        "colab": {}
      },
      "source": [
        "train_datapoints, train_labels = clean_data(train_data)\n",
        "test_datapoints, test_labels = clean_data(test_data)"
      ],
      "execution_count": null,
      "outputs": []
    },
    {
      "cell_type": "code",
      "metadata": {
        "id": "H5-uykxeACkk",
        "colab_type": "code",
        "colab": {}
      },
      "source": [
        "vocab_size = 2**16\n",
        "tokenizer = tfds.features.text.SubwordTextEncoder.build_from_corpus(   \n",
        "    train_datapoints + test_datapoints, vocab_size                                                   \n",
        ")"
      ],
      "execution_count": null,
      "outputs": []
    },
    {
      "cell_type": "code",
      "metadata": {
        "id": "UFhn5qZXADaO",
        "colab_type": "code",
        "colab": {
          "base_uri": "https://localhost:8080/",
          "height": 34
        },
        "outputId": "8cf0cbca-2771-47a2-d8a7-b8158b18a1af"
      },
      "source": [
        "MAX_LEN = max([len(sentence) for sentence in train_datapoints])\n",
        "print(MAX_LEN)\n",
        "\n",
        "tokenized_train = tokenize_corpus(train_datapoints, MAX_LEN, tokenizer)\n",
        "tokenized_test = tokenize_corpus(test_datapoints, MAX_LEN, tokenizer)"
      ],
      "execution_count": null,
      "outputs": [
        {
          "output_type": "stream",
          "text": [
            "246\n"
          ],
          "name": "stdout"
        }
      ]
    },
    {
      "cell_type": "code",
      "metadata": {
        "id": "fw2XuKRrzUbj",
        "colab_type": "code",
        "colab": {}
      },
      "source": [
        "from tensorflow.keras import layers\n",
        "\n",
        "\n",
        "class DCNN(tf.keras.Model):\n",
        "    def __init__(self,\n",
        "                 vocab_size,\n",
        "                 embedding_dim=128,\n",
        "                 nb_filters=50,\n",
        "                 FFN_units=512,\n",
        "                 nb_classes=2,\n",
        "                 dropout_rate=0.2,\n",
        "                 training=False,\n",
        "                 name=\"dcnn\"):\n",
        "        super(DCNN, self).__init__(name=name)\n",
        "        self.embedding = layers.Embedding(vocab_size, embedding_dim)\n",
        "\n",
        "        self.bigram = layers.Conv1D(filters=nb_filters, kernel_size=2, padding=\"valid\", activation=\"relu\")\n",
        "        self.trigram = layers.Conv1D(filters=nb_filters, kernel_size=3, padding=\"valid\", activation=\"relu\")\n",
        "        self.fourgram = layers.Conv1D(filters=nb_filters, kernel_size=4, padding=\"valid\", activation=\"relu\")\n",
        "\n",
        "        self.pool = layers.GlobalMaxPooling1D()\n",
        "        self.dense = layers.Dense(units=FFN_units, activation=\"relu\")\n",
        "        self.dropout = layers.Dropout(rate=dropout_rate)\n",
        "        if nb_classes == 2:\n",
        "            self.last_dense = layers.Dense(units=1, activation=\"sigmoid\")\n",
        "        else:\n",
        "            self.last_dense = layers.Dense(units=nb_classes, activation=\"softmax\")\n",
        "\n",
        "    def get_func_model(self, training=False):\n",
        "        inp = tf.keras.Input(shape=(138,))\n",
        "        x = self.embedding(inp)\n",
        "        x_1 = self.bigram(x)\n",
        "        x_1 = self.pool(x_1)\n",
        "        x_2 = self.trigram(x)\n",
        "        x_2 = self.pool(x_2)\n",
        "        x_3 = self.fourgram(x)\n",
        "        x_3 = self.pool(x_3)\n",
        "\n",
        "        merged = tf.concat([x_1, x_2, x_3], axis=-1)\n",
        "        merged = self.dense(merged)\n",
        "        merged = self.dropout(merged)\n",
        "        output = self.last_dense(merged)\n",
        "        model = tf.keras.models.Model(inputs=inp, outputs=output)\n",
        "        return model\n",
        "\n",
        "    def call(self, inputs, training):\n",
        "        x = self.embedding(inputs)\n",
        "        x_1 = self.bigram(x)\n",
        "        x_1 = self.pool(x_1)\n",
        "        x_2 = self.trigram(x)\n",
        "        x_2 = self.pool(x_2)\n",
        "        x_3 = self.fourgram(x)\n",
        "        x_3 = self.pool(x_3)\n",
        "\n",
        "        merged = tf.concat([x_1, x_2, x_3], axis=-1)\n",
        "        merged = self.dense(merged)\n",
        "        merged = self.dropout(merged, training)\n",
        "        output = self.last_dense(merged)\n",
        "        return output\n"
      ],
      "execution_count": null,
      "outputs": []
    },
    {
      "cell_type": "code",
      "metadata": {
        "id": "l6fdCIaj0bkK",
        "colab_type": "code",
        "colab": {}
      },
      "source": [
        "class Config:\n",
        "    def __init__(self,\n",
        "                 VOCAB_SIZE,\n",
        "                 EMB_DIM,\n",
        "                 NB_FILTERS,\n",
        "                 FFN_UNITS,\n",
        "                 NB_CLASSES,\n",
        "                 DROPOUT_RATE,\n",
        "                 BATCH_SIZE,\n",
        "                 NB_EPOCHS):\n",
        "        self.VOCAB_SIZE = VOCAB_SIZE\n",
        "\n",
        "        self.EMB_DIM = EMB_DIM\n",
        "        self.NB_FILTERS = NB_FILTERS\n",
        "        self.FFN_UNITS = FFN_UNITS\n",
        "        self.NB_CLASSES = NB_CLASSES  # len(set(train_labels))\n",
        "\n",
        "        self.DROPOUT_RATE = DROPOUT_RATE\n",
        "\n",
        "        self.BATCH_SIZE = BATCH_SIZE\n",
        "        self.NB_EPOCHS = NB_EPOCHS\n"
      ],
      "execution_count": null,
      "outputs": []
    },
    {
      "cell_type": "code",
      "metadata": {
        "id": "sIJMNBeGzv6Y",
        "colab_type": "code",
        "colab": {}
      },
      "source": [
        "def train(tokenized_train, train_labels, config):\n",
        "\n",
        "    Dcnn = DCNN(vocab_size= config.VOCAB_SIZE,\n",
        "                embedding_dim=config.EMB_DIM,\n",
        "                nb_filters=config.NB_FILTERS,\n",
        "                FFN_units=config.FFN_UNITS,\n",
        "                nb_classes=config.NB_CLASSES,\n",
        "                dropout_rate=config.DROPOUT_RATE)\n",
        "\n",
        "    model = Dcnn.get_func_model(training=True)\n",
        "\n",
        "    if config.NB_CLASSES == 2:\n",
        "        model.compile(loss=\"binary_crossentropy\",\n",
        "                      experimental_steps_per_execution = 50,\n",
        "                      optimizer=\"adam\",\n",
        "                      metrics=[\"accuracy\"])\n",
        "    else:\n",
        "        model.compile(loss=\"sparse_categorical_crossentropy\",\n",
        "                      experimental_steps_per_execution = 50,\n",
        "                      optimizer=\"adam\",\n",
        "                      metrics=[\"sparse_categorical_accuracy\"])\n",
        "\n",
        "    checkpoint_path = \"ckpt\"\n",
        "\n",
        "    ckpt = tf.train.Checkpoint(Dcnn=model)\n",
        "\n",
        "    ckpt_manager = tf.train.CheckpointManager(ckpt, checkpoint_path, max_to_keep=5)\n",
        "\n",
        "    if ckpt_manager.latest_checkpoint:\n",
        "        ckpt.restore(ckpt_manager.latest_checkpoint)\n",
        "        print(\"Latest checkpoint restored!!\")\n",
        "\n",
        "    model.fit(tokenized_train,\n",
        "              train_labels,\n",
        "              batch_size=config.BATCH_SIZE,\n",
        "              epochs=config.NB_EPOCHS)\n",
        "\n",
        "    model.summary()\n",
        "\n",
        "    \n",
        "    ckpt_manager.save()\n",
        "    ##Because the TPU requires data storage location to be gcs bucket\n",
        "    #model.save('/content/drive/My Drive/Colab Training Data/output/output.tf')\n",
        "    return model\n"
      ],
      "execution_count": null,
      "outputs": []
    },
    {
      "cell_type": "code",
      "metadata": {
        "id": "DtkoW_C60dXF",
        "colab_type": "code",
        "colab": {}
      },
      "source": [
        "config = Config(\n",
        "    VOCAB_SIZE=tokenizer.vocab_size,\n",
        "    EMB_DIM=200,\n",
        "    NB_FILTERS=100,\n",
        "    FFN_UNITS=256,\n",
        "    NB_CLASSES=2,\n",
        "    DROPOUT_RATE=0.2,\n",
        "    BATCH_SIZE=512,\n",
        "    NB_EPOCHS=5\n",
        ")"
      ],
      "execution_count": null,
      "outputs": []
    },
    {
      "cell_type": "code",
      "metadata": {
        "id": "sCeAwGJb0wMS",
        "colab_type": "code",
        "colab": {
          "base_uri": "https://localhost:8080/",
          "height": 170
        },
        "outputId": "43be4c4a-6ed7-44bf-b5fe-f211251a268a"
      },
      "source": [
        "config, tokenized_train, train_labels"
      ],
      "execution_count": null,
      "outputs": [
        {
          "output_type": "execute_result",
          "data": {
            "text/plain": [
              "(<__main__.Config at 0x7f5b43ec18d0>,\n",
              " array([[65335,  1570,   113, ...,     0,     0,     0],\n",
              "        [   11,  1090,    23, ...,     0,     0,     0],\n",
              "        [65335,     3, 41585, ...,     0,     0,     0],\n",
              "        ...,\n",
              "        [  926,    12,   229, ...,     0,     0,     0],\n",
              "        [  366,   337,  1309, ...,     0,     0,     0],\n",
              "        [  181, 51256,     0, ...,     0,     0,     0]], dtype=int32),\n",
              " array([0, 0, 0, ..., 1, 1, 1]))"
            ]
          },
          "metadata": {
            "tags": []
          },
          "execution_count": 16
        }
      ]
    },
    {
      "cell_type": "code",
      "metadata": {
        "id": "ijUo7N4SGAce",
        "colab_type": "code",
        "colab": {
          "base_uri": "https://localhost:8080/",
          "height": 34
        },
        "outputId": "510d17cc-7232-40cf-9411-3751df7b6101"
      },
      "source": [
        " tf.config.experimental.list_physical_devices('GPU') \n",
        " "
      ],
      "execution_count": null,
      "outputs": [
        {
          "output_type": "execute_result",
          "data": {
            "text/plain": [
              "[]"
            ]
          },
          "metadata": {
            "tags": []
          },
          "execution_count": 17
        }
      ]
    },
    {
      "cell_type": "code",
      "metadata": {
        "id": "3N6rCTuQr-Uv",
        "colab_type": "code",
        "colab": {
          "base_uri": "https://localhost:8080/",
          "height": 802
        },
        "outputId": "f4861182-9f4c-472f-8002-47c07e446dba"
      },
      "source": [
        "print(\"Tensorflow version \" + tf.__version__)\n",
        "\n",
        "try:\n",
        "  tpu = tf.distribute.cluster_resolver.TPUClusterResolver()  # TPU detection\n",
        "  print('Running on TPU ', tpu.cluster_spec().as_dict()['worker'])\n",
        "except ValueError:\n",
        "  raise BaseException('ERROR: Not connected to a TPU runtime; please see the previous cell in this notebook for instructions!')\n",
        "\n",
        "tf.config.experimental_connect_to_cluster(tpu)\n",
        "tf.tpu.experimental.initialize_tpu_system(tpu)\n",
        "tpu_strategy = tf.distribute.experimental.TPUStrategy(tpu)"
      ],
      "execution_count": null,
      "outputs": [
        {
          "output_type": "stream",
          "text": [
            "Tensorflow version 2.3.0\n",
            "Running on TPU  ['10.82.195.162:8470']\n",
            "WARNING:tensorflow:TPU system grpc://10.82.195.162:8470 has already been initialized. Reinitializing the TPU can cause previously created variables on TPU to be lost.\n"
          ],
          "name": "stdout"
        },
        {
          "output_type": "stream",
          "text": [
            "WARNING:tensorflow:TPU system grpc://10.82.195.162:8470 has already been initialized. Reinitializing the TPU can cause previously created variables on TPU to be lost.\n"
          ],
          "name": "stderr"
        },
        {
          "output_type": "stream",
          "text": [
            "INFO:tensorflow:Initializing the TPU system: grpc://10.82.195.162:8470\n"
          ],
          "name": "stdout"
        },
        {
          "output_type": "stream",
          "text": [
            "INFO:tensorflow:Initializing the TPU system: grpc://10.82.195.162:8470\n"
          ],
          "name": "stderr"
        },
        {
          "output_type": "stream",
          "text": [
            "INFO:tensorflow:Clearing out eager caches\n"
          ],
          "name": "stdout"
        },
        {
          "output_type": "stream",
          "text": [
            "INFO:tensorflow:Clearing out eager caches\n"
          ],
          "name": "stderr"
        },
        {
          "output_type": "stream",
          "text": [
            "INFO:tensorflow:Finished initializing TPU system.\n"
          ],
          "name": "stdout"
        },
        {
          "output_type": "stream",
          "text": [
            "INFO:tensorflow:Finished initializing TPU system.\n",
            "WARNING:absl:`tf.distribute.experimental.TPUStrategy` is deprecated, please use  the non experimental symbol `tf.distribute.TPUStrategy` instead.\n"
          ],
          "name": "stderr"
        },
        {
          "output_type": "stream",
          "text": [
            "INFO:tensorflow:Found TPU system:\n"
          ],
          "name": "stdout"
        },
        {
          "output_type": "stream",
          "text": [
            "INFO:tensorflow:Found TPU system:\n"
          ],
          "name": "stderr"
        },
        {
          "output_type": "stream",
          "text": [
            "INFO:tensorflow:*** Num TPU Cores: 8\n"
          ],
          "name": "stdout"
        },
        {
          "output_type": "stream",
          "text": [
            "INFO:tensorflow:*** Num TPU Cores: 8\n"
          ],
          "name": "stderr"
        },
        {
          "output_type": "stream",
          "text": [
            "INFO:tensorflow:*** Num TPU Workers: 1\n"
          ],
          "name": "stdout"
        },
        {
          "output_type": "stream",
          "text": [
            "INFO:tensorflow:*** Num TPU Workers: 1\n"
          ],
          "name": "stderr"
        },
        {
          "output_type": "stream",
          "text": [
            "INFO:tensorflow:*** Num TPU Cores Per Worker: 8\n"
          ],
          "name": "stdout"
        },
        {
          "output_type": "stream",
          "text": [
            "INFO:tensorflow:*** Num TPU Cores Per Worker: 8\n"
          ],
          "name": "stderr"
        },
        {
          "output_type": "stream",
          "text": [
            "INFO:tensorflow:*** Available Device: _DeviceAttributes(/job:localhost/replica:0/task:0/device:CPU:0, CPU, 0, 0)\n"
          ],
          "name": "stdout"
        },
        {
          "output_type": "stream",
          "text": [
            "INFO:tensorflow:*** Available Device: _DeviceAttributes(/job:localhost/replica:0/task:0/device:CPU:0, CPU, 0, 0)\n"
          ],
          "name": "stderr"
        },
        {
          "output_type": "stream",
          "text": [
            "INFO:tensorflow:*** Available Device: _DeviceAttributes(/job:localhost/replica:0/task:0/device:XLA_CPU:0, XLA_CPU, 0, 0)\n"
          ],
          "name": "stdout"
        },
        {
          "output_type": "stream",
          "text": [
            "INFO:tensorflow:*** Available Device: _DeviceAttributes(/job:localhost/replica:0/task:0/device:XLA_CPU:0, XLA_CPU, 0, 0)\n"
          ],
          "name": "stderr"
        },
        {
          "output_type": "stream",
          "text": [
            "INFO:tensorflow:*** Available Device: _DeviceAttributes(/job:worker/replica:0/task:0/device:CPU:0, CPU, 0, 0)\n"
          ],
          "name": "stdout"
        },
        {
          "output_type": "stream",
          "text": [
            "INFO:tensorflow:*** Available Device: _DeviceAttributes(/job:worker/replica:0/task:0/device:CPU:0, CPU, 0, 0)\n"
          ],
          "name": "stderr"
        },
        {
          "output_type": "stream",
          "text": [
            "INFO:tensorflow:*** Available Device: _DeviceAttributes(/job:worker/replica:0/task:0/device:TPU:0, TPU, 0, 0)\n"
          ],
          "name": "stdout"
        },
        {
          "output_type": "stream",
          "text": [
            "INFO:tensorflow:*** Available Device: _DeviceAttributes(/job:worker/replica:0/task:0/device:TPU:0, TPU, 0, 0)\n"
          ],
          "name": "stderr"
        },
        {
          "output_type": "stream",
          "text": [
            "INFO:tensorflow:*** Available Device: _DeviceAttributes(/job:worker/replica:0/task:0/device:TPU:1, TPU, 0, 0)\n"
          ],
          "name": "stdout"
        },
        {
          "output_type": "stream",
          "text": [
            "INFO:tensorflow:*** Available Device: _DeviceAttributes(/job:worker/replica:0/task:0/device:TPU:1, TPU, 0, 0)\n"
          ],
          "name": "stderr"
        },
        {
          "output_type": "stream",
          "text": [
            "INFO:tensorflow:*** Available Device: _DeviceAttributes(/job:worker/replica:0/task:0/device:TPU:2, TPU, 0, 0)\n"
          ],
          "name": "stdout"
        },
        {
          "output_type": "stream",
          "text": [
            "INFO:tensorflow:*** Available Device: _DeviceAttributes(/job:worker/replica:0/task:0/device:TPU:2, TPU, 0, 0)\n"
          ],
          "name": "stderr"
        },
        {
          "output_type": "stream",
          "text": [
            "INFO:tensorflow:*** Available Device: _DeviceAttributes(/job:worker/replica:0/task:0/device:TPU:3, TPU, 0, 0)\n"
          ],
          "name": "stdout"
        },
        {
          "output_type": "stream",
          "text": [
            "INFO:tensorflow:*** Available Device: _DeviceAttributes(/job:worker/replica:0/task:0/device:TPU:3, TPU, 0, 0)\n"
          ],
          "name": "stderr"
        },
        {
          "output_type": "stream",
          "text": [
            "INFO:tensorflow:*** Available Device: _DeviceAttributes(/job:worker/replica:0/task:0/device:TPU:4, TPU, 0, 0)\n"
          ],
          "name": "stdout"
        },
        {
          "output_type": "stream",
          "text": [
            "INFO:tensorflow:*** Available Device: _DeviceAttributes(/job:worker/replica:0/task:0/device:TPU:4, TPU, 0, 0)\n"
          ],
          "name": "stderr"
        },
        {
          "output_type": "stream",
          "text": [
            "INFO:tensorflow:*** Available Device: _DeviceAttributes(/job:worker/replica:0/task:0/device:TPU:5, TPU, 0, 0)\n"
          ],
          "name": "stdout"
        },
        {
          "output_type": "stream",
          "text": [
            "INFO:tensorflow:*** Available Device: _DeviceAttributes(/job:worker/replica:0/task:0/device:TPU:5, TPU, 0, 0)\n"
          ],
          "name": "stderr"
        },
        {
          "output_type": "stream",
          "text": [
            "INFO:tensorflow:*** Available Device: _DeviceAttributes(/job:worker/replica:0/task:0/device:TPU:6, TPU, 0, 0)\n"
          ],
          "name": "stdout"
        },
        {
          "output_type": "stream",
          "text": [
            "INFO:tensorflow:*** Available Device: _DeviceAttributes(/job:worker/replica:0/task:0/device:TPU:6, TPU, 0, 0)\n"
          ],
          "name": "stderr"
        },
        {
          "output_type": "stream",
          "text": [
            "INFO:tensorflow:*** Available Device: _DeviceAttributes(/job:worker/replica:0/task:0/device:TPU:7, TPU, 0, 0)\n"
          ],
          "name": "stdout"
        },
        {
          "output_type": "stream",
          "text": [
            "INFO:tensorflow:*** Available Device: _DeviceAttributes(/job:worker/replica:0/task:0/device:TPU:7, TPU, 0, 0)\n"
          ],
          "name": "stderr"
        },
        {
          "output_type": "stream",
          "text": [
            "INFO:tensorflow:*** Available Device: _DeviceAttributes(/job:worker/replica:0/task:0/device:TPU_SYSTEM:0, TPU_SYSTEM, 0, 0)\n"
          ],
          "name": "stdout"
        },
        {
          "output_type": "stream",
          "text": [
            "INFO:tensorflow:*** Available Device: _DeviceAttributes(/job:worker/replica:0/task:0/device:TPU_SYSTEM:0, TPU_SYSTEM, 0, 0)\n"
          ],
          "name": "stderr"
        },
        {
          "output_type": "stream",
          "text": [
            "INFO:tensorflow:*** Available Device: _DeviceAttributes(/job:worker/replica:0/task:0/device:XLA_CPU:0, XLA_CPU, 0, 0)\n"
          ],
          "name": "stdout"
        },
        {
          "output_type": "stream",
          "text": [
            "INFO:tensorflow:*** Available Device: _DeviceAttributes(/job:worker/replica:0/task:0/device:XLA_CPU:0, XLA_CPU, 0, 0)\n"
          ],
          "name": "stderr"
        }
      ]
    },
    {
      "cell_type": "code",
      "metadata": {
        "id": "R1JJvB0K0OPG",
        "colab_type": "code",
        "colab": {
          "base_uri": "https://localhost:8080/",
          "height": 921
        },
        "outputId": "05ec4b84-6990-40e1-989a-cf727e9bb0d5"
      },
      "source": [
        "model = train(tokenized_train, train_labels, config)"
      ],
      "execution_count": null,
      "outputs": [
        {
          "output_type": "stream",
          "text": [
            "Epoch 1/5\n",
            "WARNING:tensorflow:Model was constructed with shape (None, 138) for input Tensor(\"input_13:0\", shape=(None, 138), dtype=float32), but it was called on an input with incompatible shape (512, 246).\n"
          ],
          "name": "stdout"
        },
        {
          "output_type": "stream",
          "text": [
            "WARNING:tensorflow:Model was constructed with shape (None, 138) for input Tensor(\"input_13:0\", shape=(None, 138), dtype=float32), but it was called on an input with incompatible shape (512, 246).\n"
          ],
          "name": "stderr"
        },
        {
          "output_type": "stream",
          "text": [
            "WARNING:tensorflow:Model was constructed with shape (None, 138) for input Tensor(\"input_13:0\", shape=(None, 138), dtype=float32), but it was called on an input with incompatible shape (512, 246).\n"
          ],
          "name": "stdout"
        },
        {
          "output_type": "stream",
          "text": [
            "WARNING:tensorflow:Model was constructed with shape (None, 138) for input Tensor(\"input_13:0\", shape=(None, 138), dtype=float32), but it was called on an input with incompatible shape (512, 246).\n"
          ],
          "name": "stderr"
        },
        {
          "output_type": "stream",
          "text": [
            "WARNING:tensorflow:Model was constructed with shape (None, 138) for input Tensor(\"input_13:0\", shape=(None, 138), dtype=float32), but it was called on an input with incompatible shape (512, 246).\n"
          ],
          "name": "stdout"
        },
        {
          "output_type": "stream",
          "text": [
            "WARNING:tensorflow:Model was constructed with shape (None, 138) for input Tensor(\"input_13:0\", shape=(None, 138), dtype=float32), but it was called on an input with incompatible shape (512, 246).\n"
          ],
          "name": "stderr"
        },
        {
          "output_type": "stream",
          "text": [
            "WARNING:tensorflow:Model was constructed with shape (None, 138) for input Tensor(\"input_13:0\", shape=(None, 138), dtype=float32), but it was called on an input with incompatible shape (512, 246).\n"
          ],
          "name": "stdout"
        },
        {
          "output_type": "stream",
          "text": [
            "WARNING:tensorflow:Model was constructed with shape (None, 138) for input Tensor(\"input_13:0\", shape=(None, 138), dtype=float32), but it was called on an input with incompatible shape (512, 246).\n"
          ],
          "name": "stderr"
        },
        {
          "output_type": "stream",
          "text": [
            "WARNING:tensorflow:6 out of the last 165 calls to <function Model.make_train_function.<locals>.train_function at 0x7f5b1dfaf7b8> triggered tf.function retracing. Tracing is expensive and the excessive number of tracings could be due to (1) creating @tf.function repeatedly in a loop, (2) passing tensors with different shapes, (3) passing Python objects instead of tensors. For (1), please define your @tf.function outside of the loop. For (2), @tf.function has experimental_relax_shapes=True option that relaxes argument shapes that can avoid unnecessary retracing. For (3), please refer to https://www.tensorflow.org/tutorials/customization/performance#python_or_tensor_args and https://www.tensorflow.org/api_docs/python/tf/function for  more details.\n"
          ],
          "name": "stdout"
        },
        {
          "output_type": "stream",
          "text": [
            "WARNING:tensorflow:6 out of the last 165 calls to <function Model.make_train_function.<locals>.train_function at 0x7f5b1dfaf7b8> triggered tf.function retracing. Tracing is expensive and the excessive number of tracings could be due to (1) creating @tf.function repeatedly in a loop, (2) passing tensors with different shapes, (3) passing Python objects instead of tensors. For (1), please define your @tf.function outside of the loop. For (2), @tf.function has experimental_relax_shapes=True option that relaxes argument shapes that can avoid unnecessary retracing. For (3), please refer to https://www.tensorflow.org/tutorials/customization/performance#python_or_tensor_args and https://www.tensorflow.org/api_docs/python/tf/function for  more details.\n"
          ],
          "name": "stderr"
        },
        {
          "output_type": "stream",
          "text": [
            "3125/3125 [==============================] - 474s 152ms/step - loss: 0.3955 - accuracy: 0.8194\n",
            "Epoch 2/5\n",
            "3125/3125 [==============================] - 483s 155ms/step - loss: 0.3052 - accuracy: 0.8691\n",
            "Epoch 3/5\n",
            "3125/3125 [==============================] - 479s 153ms/step - loss: 0.2123 - accuracy: 0.9130\n",
            "Epoch 4/5\n",
            "3125/3125 [==============================] - 477s 152ms/step - loss: 0.1420 - accuracy: 0.9434\n",
            "Epoch 5/5\n",
            "3125/3125 [==============================] - 484s 155ms/step - loss: 0.1053 - accuracy: 0.9583\n",
            "Model: \"functional_25\"\n",
            "__________________________________________________________________________________________________\n",
            "Layer (type)                    Output Shape         Param #     Connected to                     \n",
            "==================================================================================================\n",
            "input_13 (InputLayer)           [(None, 138)]        0                                            \n",
            "__________________________________________________________________________________________________\n",
            "embedding_12 (Embedding)        (None, 138, 200)     13111800    input_13[0][0]                   \n",
            "__________________________________________________________________________________________________\n",
            "conv1d_36 (Conv1D)              (None, 137, 100)     40100       embedding_12[0][0]               \n",
            "__________________________________________________________________________________________________\n",
            "conv1d_37 (Conv1D)              (None, 136, 100)     60100       embedding_12[0][0]               \n",
            "__________________________________________________________________________________________________\n",
            "conv1d_38 (Conv1D)              (None, 135, 100)     80100       embedding_12[0][0]               \n",
            "__________________________________________________________________________________________________\n",
            "global_max_pooling1d_12 (Global (None, 100)          0           conv1d_36[0][0]                  \n",
            "                                                                 conv1d_37[0][0]                  \n",
            "                                                                 conv1d_38[0][0]                  \n",
            "__________________________________________________________________________________________________\n",
            "tf_op_layer_concat_12 (TensorFl [(None, 300)]        0           global_max_pooling1d_12[0][0]    \n",
            "                                                                 global_max_pooling1d_12[1][0]    \n",
            "                                                                 global_max_pooling1d_12[2][0]    \n",
            "__________________________________________________________________________________________________\n",
            "dense_24 (Dense)                (None, 256)          77056       tf_op_layer_concat_12[0][0]      \n",
            "__________________________________________________________________________________________________\n",
            "dropout_12 (Dropout)            (None, 256)          0           dense_24[0][0]                   \n",
            "__________________________________________________________________________________________________\n",
            "dense_25 (Dense)                (None, 1)            257         dropout_12[0][0]                 \n",
            "==================================================================================================\n",
            "Total params: 13,369,413\n",
            "Trainable params: 13,369,413\n",
            "Non-trainable params: 0\n",
            "__________________________________________________________________________________________________\n"
          ],
          "name": "stdout"
        }
      ]
    },
    {
      "cell_type": "code",
      "metadata": {
        "id": "zp3AlnEw9p0S",
        "colab_type": "code",
        "colab": {}
      },
      "source": [
        "def convert_model_to_tflite(model=None):                                                     \n",
        "    # Convert the model.                                                                     \n",
        "    model_to_convert = model if model else tf.keras.models.load_model(\"output.tf\")           \n",
        "                                                                                             \n",
        "    converter = tf.lite.TFLiteConverter.from_keras_model(model_to_convert)                   \n",
        "    converter.target_spec.supported_ops = [tf.lite.OpsSet.TFLITE_BUILTINS,                   \n",
        "                                           tf.lite.OpsSet.SELECT_TF_OPS]                     \n",
        "    converter.optimizations = [tf.lite.Optimize.DEFAULT]                                     \n",
        "    tflite_model = converter.convert()                                                       \n",
        "                                                                                             \n",
        "    # Save the TF Lite model.                                                                \n",
        "    with tf.io.gfile.GFile('/content/drive/My Drive/Colab Training Data/output/tflite/dcnn.tflite', 'wb') as f:                                 \n",
        "        f.write(tflite_model)                                                                \n",
        "                                                                                             "
      ],
      "execution_count": null,
      "outputs": []
    },
    {
      "cell_type": "code",
      "metadata": {
        "id": "xU3vhmA39wfW",
        "colab_type": "code",
        "colab": {
          "base_uri": "https://localhost:8080/",
          "height": 51
        },
        "outputId": "3a8533a3-f91e-4107-fda5-024e5be1939e"
      },
      "source": [
        "convert_model_to_tflite(model)"
      ],
      "execution_count": null,
      "outputs": [
        {
          "output_type": "stream",
          "text": [
            "INFO:tensorflow:Assets written to: /tmp/tmp6tfdbcjo/assets\n"
          ],
          "name": "stdout"
        },
        {
          "output_type": "stream",
          "text": [
            "INFO:tensorflow:Assets written to: /tmp/tmp6tfdbcjo/assets\n"
          ],
          "name": "stderr"
        }
      ]
    },
    {
      "cell_type": "code",
      "metadata": {
        "id": "azqPVKOQ_k-q",
        "colab_type": "code",
        "colab": {}
      },
      "source": [
        ""
      ],
      "execution_count": null,
      "outputs": []
    }
  ]
}